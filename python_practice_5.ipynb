{
  "nbformat": 4,
  "nbformat_minor": 0,
  "metadata": {
    "colab": {
      "provenance": []
    },
    "kernelspec": {
      "name": "python3",
      "display_name": "Python 3"
    },
    "language_info": {
      "name": "python"
    }
  },
  "cells": [
    {
      "cell_type": "markdown",
      "source": [
        "# I. OOP"
      ],
      "metadata": {
        "id": "5qV_sehzFCTp"
      }
    },
    {
      "cell_type": "markdown",
      "source": [
        "1. (6б). Створіть клас Building, додайте три атрибути, один з яких має значення за замовчуванням та два методи на свій розсуд."
      ],
      "metadata": {
        "id": "tx_U_hOALyfg"
      }
    },
    {
      "cell_type": "code",
      "source": [
        "class Building:\n",
        "    street_name = \"Stepana Bandery\"\n",
        "\n",
        "    def __init__(self, color, number, floors = 7):\n",
        "        self.color = color\n",
        "        self.number = number\n",
        "        self.floors = floors\n",
        "\n",
        "    def reprint(self, another_color):\n",
        "        self.color = another_color\n",
        "        return f\"building reprint in {another_color}\"\n",
        "\n",
        "    def rebuild(self):\n",
        "        self.color = \"white\"\n",
        "        self.floors = 1\n",
        "\n",
        "    def __str__(self):\n",
        "        return f\"building in {self.street_name}, {self.number} have beautiful {self.color} color and {self.floors} floors\""
      ],
      "metadata": {
        "id": "-Vf895KaL88N"
      },
      "execution_count": 89,
      "outputs": []
    },
    {
      "cell_type": "markdown",
      "source": [
        "2. (2б). Створіть два обʼєкти цього класу, де один з обʼєктів створюється із дефолтним значенням атрибуту. На одному обʼєкті отримайте значення його атрибуту, а на іншому викличте один з його методів."
      ],
      "metadata": {
        "id": "X_UlOMB0L93w"
      }
    },
    {
      "cell_type": "code",
      "source": [
        "my_house = Building(\"green\", 14, 9)\n",
        "house_2 = Building(\"red\", 15)\n",
        "print(house_2.floors)\n",
        "print(my_house.reprint(\"pink\"))\n",
        "print(my_house)"
      ],
      "metadata": {
        "id": "7gBu0ESOMCpG",
        "colab": {
          "base_uri": "https://localhost:8080/"
        },
        "outputId": "80adf068-8578-43cb-afd5-7d81492920ab"
      },
      "execution_count": 90,
      "outputs": [
        {
          "output_type": "stream",
          "name": "stdout",
          "text": [
            "7\n",
            "building reprint in pink\n",
            "building in Stepana Bandery, 14 have beautiful pink color and 9 floors\n"
          ]
        }
      ]
    },
    {
      "cell_type": "markdown",
      "source": [
        "3. (5б). Створіть клас, де атрибути мають різні рівні доступу. Спробуйте отримати їхні значення та опишіть результати."
      ],
      "metadata": {
        "id": "HoqSCZt1MHn5"
      }
    },
    {
      "cell_type": "code",
      "source": [
        "class Train:\n",
        "\n",
        "    def __init__(self, ncoaches, isrepaired, passangersdata):\n",
        "        self.ncoaches = ncoaches\n",
        "        self._isrepaired = isrepaired\n",
        "        self.__passangersdata = passangersdata\n",
        "\n",
        "    def get_data(self):\n",
        "        return self.__passangersdata\n",
        "\n",
        "train = Train(17, True, \"Diana Tsisaruk and Tanya Khaimyk\") #i was doing it on the train\n",
        "print(train.ncoaches)\n",
        "print(train._isrepaired)\n",
        "# print(train.__passangersdata) mistake\n",
        "print(train.get_data())"
      ],
      "metadata": {
        "id": "r9b3vJxBMSPV",
        "colab": {
          "base_uri": "https://localhost:8080/",
          "height": 228
        },
        "outputId": "4b3af590-07e1-4986-dbfc-6de43b0c17c8"
      },
      "execution_count": 87,
      "outputs": [
        {
          "output_type": "stream",
          "name": "stdout",
          "text": [
            "17\n",
            "True\n"
          ]
        },
        {
          "output_type": "error",
          "ename": "AttributeError",
          "evalue": "'Train' object has no attribute '__passangersdata'",
          "traceback": [
            "\u001b[0;31m---------------------------------------------------------------------------\u001b[0m",
            "\u001b[0;31mAttributeError\u001b[0m                            Traceback (most recent call last)",
            "\u001b[0;32m<ipython-input-87-c8faad951447>\u001b[0m in \u001b[0;36m<cell line: 0>\u001b[0;34m()\u001b[0m\n\u001b[1;32m     12\u001b[0m \u001b[0mprint\u001b[0m\u001b[0;34m(\u001b[0m\u001b[0mtrain\u001b[0m\u001b[0;34m.\u001b[0m\u001b[0mncoaches\u001b[0m\u001b[0;34m)\u001b[0m\u001b[0;34m\u001b[0m\u001b[0;34m\u001b[0m\u001b[0m\n\u001b[1;32m     13\u001b[0m \u001b[0mprint\u001b[0m\u001b[0;34m(\u001b[0m\u001b[0mtrain\u001b[0m\u001b[0;34m.\u001b[0m\u001b[0m_isrepaired\u001b[0m\u001b[0;34m)\u001b[0m\u001b[0;34m\u001b[0m\u001b[0;34m\u001b[0m\u001b[0m\n\u001b[0;32m---> 14\u001b[0;31m \u001b[0mprint\u001b[0m\u001b[0;34m(\u001b[0m\u001b[0mtrain\u001b[0m\u001b[0;34m.\u001b[0m\u001b[0m__passangersdata\u001b[0m\u001b[0;34m)\u001b[0m\u001b[0;34m\u001b[0m\u001b[0;34m\u001b[0m\u001b[0m\n\u001b[0m\u001b[1;32m     15\u001b[0m \u001b[0mprint\u001b[0m\u001b[0;34m(\u001b[0m\u001b[0mtrain\u001b[0m\u001b[0;34m.\u001b[0m\u001b[0mget_data\u001b[0m\u001b[0;34m(\u001b[0m\u001b[0;34m)\u001b[0m\u001b[0;34m)\u001b[0m\u001b[0;34m\u001b[0m\u001b[0;34m\u001b[0m\u001b[0m\n",
            "\u001b[0;31mAttributeError\u001b[0m: 'Train' object has no attribute '__passangersdata'"
          ]
        }
      ]
    },
    {
      "cell_type": "markdown",
      "source": [
        "4. (7б). Як ви розумієте термін self? Для чого використовується метод __init __?"
      ],
      "metadata": {
        "id": "5op2m2vgMSkZ"
      }
    },
    {
      "cell_type": "markdown",
      "source": [
        "- `self` refers to the current instance of a class. It’s used in methods to access the object’s attributes and methods.\n",
        "- `__init__` declare which attributes each instance of the class should have and runs when a new object is created"
      ],
      "metadata": {
        "id": "Z-YmGLnc9f2a"
      }
    },
    {
      "cell_type": "markdown",
      "source": [
        "5. (9б). Створіть клас 3D-фігура без атрибутів, з методом get_volume для отримання об'єму фігури, що повертає 0 та __add __, який приймає self та other в якості аргументів, а повертає суму об'ємів 3d-фігур self та other."
      ],
      "metadata": {
        "id": "-6X8EGfjMd2y"
      }
    },
    {
      "cell_type": "code",
      "source": [
        "class ThreeD:\n",
        "\n",
        "    def get_volume(self):\n",
        "        return 0\n",
        "\n",
        "    def __add__(self, other):\n",
        "        return self.get_volume() + other.get_volume()\n",
        "\n",
        "cube = ThreeD()\n",
        "cylinder = ThreeD()\n",
        "print(cube + cylinder)"
      ],
      "metadata": {
        "id": "4rvO_wYUMaEr",
        "colab": {
          "base_uri": "https://localhost:8080/"
        },
        "outputId": "ee5ddc7f-944e-429e-8d76-4556c0f69d50"
      },
      "execution_count": 88,
      "outputs": [
        {
          "output_type": "stream",
          "name": "stdout",
          "text": [
            "0\n"
          ]
        }
      ]
    },
    {
      "cell_type": "markdown",
      "source": [
        "6. (11б). Створіть 2 дочірніх класи від 3d-фігура: Циліндр та Куб, які мають атрибути, необхідні для розрахунку об'єму. Визначте метод get_volume в кожному з них так, щоби вони розраховували об'єм у залежності від формули для кожного типу фігури. Створіть обʼєкт класу Циліндр та обʼєкт класу Куб. Виконайте операцію суми за допомогою оператора + між ними, аби знайти сумарний об'єм."
      ],
      "metadata": {
        "id": "SFcKnnv5Mo_z"
      }
    },
    {
      "cell_type": "code",
      "source": [
        "class Cylinder(ThreeD):\n",
        "    def __init__(self,height, radius):\n",
        "        self.height = height\n",
        "        self.radius = radius\n",
        "\n",
        "    def get_volume(self):\n",
        "        return 3.14 * self.radius**2 * self.height\n",
        "\n",
        "class Cube(ThreeD):\n",
        "    def __init__(self, side):\n",
        "        self.side = side\n",
        "\n",
        "    def get_volume(self):\n",
        "        return self.side**3\n",
        "\n",
        "cylinder = Cylinder(16, 4)\n",
        "cube = Cube(5)\n",
        "print(cylinder.get_volume())\n",
        "print(cube.get_volume())\n"
      ],
      "metadata": {
        "id": "H3GVNr69Muf3",
        "colab": {
          "base_uri": "https://localhost:8080/"
        },
        "outputId": "a5b1ed54-62e2-44a5-a246-d7c3128b6602"
      },
      "execution_count": 86,
      "outputs": [
        {
          "output_type": "stream",
          "name": "stdout",
          "text": [
            "803.84\n",
            "125\n"
          ]
        }
      ]
    },
    {
      "cell_type": "markdown",
      "source": [
        "7. (3б). Продемонструйте різницю між isinstance та issubclass."
      ],
      "metadata": {
        "id": "HCvR206YMvLK"
      }
    },
    {
      "cell_type": "code",
      "source": [
        "print(isinstance(cylinder, Cylinder))\n",
        "print(isinstance(cylinder, ThreeD))\n",
        "print(issubclass(Cylinder, ThreeD))"
      ],
      "metadata": {
        "id": "L_V1bBvDM0GN",
        "colab": {
          "base_uri": "https://localhost:8080/"
        },
        "outputId": "2927bece-2bf5-4ea9-cbe0-772ae0bf9078"
      },
      "execution_count": null,
      "outputs": [
        {
          "output_type": "stream",
          "name": "stdout",
          "text": [
            "True\n",
            "True\n",
            "True\n"
          ]
        }
      ]
    },
    {
      "cell_type": "markdown",
      "source": [
        "8. (13б). Створіть клас EWallet з приватними атрибутами balance та id. Реалізуйте методи поповнення та зняття коштів, забезпечивши належну інкапсуляцію. Підказка: використовуйте декоратори property та setter."
      ],
      "metadata": {
        "id": "jjsaBZ-iM0Qq"
      }
    },
    {
      "cell_type": "code",
      "source": [
        "class EWallet:\n",
        "    def __init__(self, balance, id):\n",
        "        self.__balance  = balance\n",
        "        self.__id = id\n",
        "\n",
        "    @property\n",
        "    def balance(self):\n",
        "        return self.__balance\n",
        "\n",
        "    @balance.setter\n",
        "    def balance(self, value):\n",
        "        if value < 0:\n",
        "            raise ValueError(\"invalid value\")\n",
        "        self.__balance = value\n",
        "\n",
        "    @property\n",
        "    def id(self):\n",
        "        return self.__id\n",
        "\n",
        "    def top_up(self, amount):\n",
        "        if amount <= 0:\n",
        "            raise ValueError(\"invalid value\")\n",
        "        self.__balance += amount\n",
        "        return f\"New balance: {self.__balance}\"\n",
        "\n",
        "\n",
        "    def withdraw(self, amount):\n",
        "        if amount <= 0:\n",
        "            raise ValueError(\"invalid value\")\n",
        "        if amount > self.__balance:\n",
        "            raise ValueError(\"invalid value\")\n",
        "        self.__balance -= amount\n",
        "        return f\"New balance: {self.__balance}\"\n",
        "\n",
        "wallet = EWallet(15000, \"LOL\")\n",
        "print(wallet.id)\n",
        "print(wallet.balance)\n",
        "print(wallet.top_up(1000))\n",
        "print(wallet.withdraw(2000))"
      ],
      "metadata": {
        "id": "xCvZ7lh8M7YA",
        "colab": {
          "base_uri": "https://localhost:8080/"
        },
        "outputId": "f5c69ea7-7ba0-4421-b948-560b9dd82eef"
      },
      "execution_count": 15,
      "outputs": [
        {
          "output_type": "stream",
          "name": "stdout",
          "text": [
            "LOL\n",
            "15000\n",
            "New balance: 16000\n",
            "New balance: 14000\n"
          ]
        }
      ]
    },
    {
      "cell_type": "markdown",
      "source": [
        "9. (11б). Створіть клас ShoppingCart, який містить список об'єктів типу Item. Реалізуйте методи для додавання айтемів, їх видалення та відображення списку айтемів."
      ],
      "metadata": {
        "id": "tIzL2SJTM8ft"
      }
    },
    {
      "cell_type": "code",
      "source": [
        "class Item:\n",
        "\n",
        "    def __init__(self, name, quantity, price):\n",
        "         self.name = name\n",
        "         self.quantity = quantity\n",
        "         self.price = price\n",
        "\n",
        "    def __str__(self):\n",
        "         return f\"{self.name}, {self.quantity}, {self.price}\"\n",
        "\n",
        "\n",
        "class ShoppingCart:\n",
        "    def __init__(self):\n",
        "         self.cart = list()\n",
        "\n",
        "    def add(self, item):\n",
        "         if isinstance(item, Item):\n",
        "             self.cart.append(item)\n",
        "             return f\"{item} added\"\n",
        "\n",
        "    def remove(self, item_name):\n",
        "        for item in self.cart:\n",
        "            if item.name == item_name:\n",
        "                self.cart.remove(item)\n",
        "                return f\"{item_name} removed\"\n",
        "        return f\"{item_name} not in the cart.\"\n",
        "\n",
        "    def __str__(self):\n",
        "        return f\"cart: {'; '.join(str(item) for item in self.cart)}\"\n",
        "\n",
        "cart = ShoppingCart()\n",
        "cart.add(Item(\"Apple\", 12, 10.4))\n",
        "cart.add(Item(\"Jar of pickles\", 3, 55.55))\n",
        "print(cart)\n",
        "cart.remove(\"Apple\")\n",
        "print(cart)"
      ],
      "metadata": {
        "id": "f5eC5GFhGgYW",
        "colab": {
          "base_uri": "https://localhost:8080/"
        },
        "outputId": "df03024c-5153-41f2-d202-cc1f02ebfe5a"
      },
      "execution_count": 34,
      "outputs": [
        {
          "output_type": "stream",
          "name": "stdout",
          "text": [
            "cart: Apple, 12, 10.4; Jar of pickles, 3, 55.55\n",
            "cart: Jar of pickles, 3, 55.55\n"
          ]
        }
      ]
    },
    {
      "cell_type": "markdown",
      "source": [
        "10. (13б). Створіть клас Vehicle з атрибутами brand (manufacturer) та production_age. Створіть ще один клас Engine з такими атрибутами, як type (ex. petrol) та size (volume, litres). Створіть клас Car, який успадковує обидва класи Vehicle та Engine. Продемонструйте використання множинної спадковості, створивши обʼєкт класу Car та отримавши mro для цього класу."
      ],
      "metadata": {
        "id": "lmV8pAwwNIqu"
      }
    },
    {
      "cell_type": "code",
      "source": [
        "class Vehicle:\n",
        "\n",
        "    def __init__(self, brand, production_age):\n",
        "        self.brand = brand\n",
        "        self.production_age = production_age\n",
        "\n",
        "    def output_vehicle(self):\n",
        "        return f\"brand: {self.brand}, age: {self.production_age}\"\n",
        "\n",
        "class Engine:\n",
        "\n",
        "    def __init__(self, type, size):\n",
        "        self.type = type\n",
        "        self.size = size\n",
        "\n",
        "    def output_engine(self):\n",
        "        return f\"engine: {self.type}, size: {self.size}L\"\n",
        "\n",
        "\n",
        "class Car(Vehicle, Engine):\n",
        "\n",
        "    def __init__(self, brand, production_age, type, size):\n",
        "        Vehicle.__init__(self, brand, production_age)\n",
        "        Engine.__init__(self, type, size)\n",
        "\n",
        "    def __str__(self):\n",
        "        return f\"{self.output_vehicle()}, {self.output_engine()}\"\n",
        "\n",
        "\n",
        "audi = Car(\"Audi\", 5, \"diesel\", 2)\n",
        "print(Car.mro())\n",
        "print(audi)"
      ],
      "metadata": {
        "id": "R49grKlWNPeN",
        "colab": {
          "base_uri": "https://localhost:8080/"
        },
        "outputId": "ae0f77c5-07b2-4b3c-ca0d-c78f91475ce5"
      },
      "execution_count": 51,
      "outputs": [
        {
          "output_type": "stream",
          "name": "stdout",
          "text": [
            "[<class '__main__.Car'>, <class '__main__.Vehicle'>, <class '__main__.Engine'>, <class 'object'>]\n",
            "brand: Audi, age: 5, engine: diesel, size: 2L\n"
          ]
        }
      ]
    },
    {
      "cell_type": "markdown",
      "source": [
        "# II. Iterator"
      ],
      "metadata": {
        "id": "dIJyUiNBFG8G"
      }
    },
    {
      "cell_type": "markdown",
      "source": [
        "11. (4б). Визначте рядок(str) з 4ма різними за значенням символами. Створіть ітератор на основі цього рядка. Викличте 5 разів функцію next на ітераторі, 4ри перших з них огорніть у ф-цію print()."
      ],
      "metadata": {
        "id": "13vsm0NyKIzL"
      }
    },
    {
      "cell_type": "code",
      "source": [
        "my_str = \"pari\"\n",
        "my_iter = iter(my_str)\n",
        "print(next(my_iter))\n",
        "print(next(my_iter))\n",
        "print(next(my_iter))\n",
        "print(next(my_iter))\n",
        "next(my_iter) #mistake cause we have no symbols else"
      ],
      "metadata": {
        "id": "81ntabAkKuz-",
        "colab": {
          "base_uri": "https://localhost:8080/",
          "height": 245
        },
        "outputId": "39d905dd-633f-4f40-ab51-5ba7102ab815"
      },
      "execution_count": 53,
      "outputs": [
        {
          "output_type": "stream",
          "name": "stdout",
          "text": [
            "p\n",
            "a\n",
            "r\n",
            "i\n"
          ]
        },
        {
          "output_type": "error",
          "ename": "StopIteration",
          "evalue": "",
          "traceback": [
            "\u001b[0;31m---------------------------------------------------------------------------\u001b[0m",
            "\u001b[0;31mStopIteration\u001b[0m                             Traceback (most recent call last)",
            "\u001b[0;32m<ipython-input-53-9728ac6855dd>\u001b[0m in \u001b[0;36m<cell line: 0>\u001b[0;34m()\u001b[0m\n\u001b[1;32m      5\u001b[0m \u001b[0mprint\u001b[0m\u001b[0;34m(\u001b[0m\u001b[0mnext\u001b[0m\u001b[0;34m(\u001b[0m\u001b[0mmy_iter\u001b[0m\u001b[0;34m)\u001b[0m\u001b[0;34m)\u001b[0m\u001b[0;34m\u001b[0m\u001b[0;34m\u001b[0m\u001b[0m\n\u001b[1;32m      6\u001b[0m \u001b[0mprint\u001b[0m\u001b[0;34m(\u001b[0m\u001b[0mnext\u001b[0m\u001b[0;34m(\u001b[0m\u001b[0mmy_iter\u001b[0m\u001b[0;34m)\u001b[0m\u001b[0;34m)\u001b[0m\u001b[0;34m\u001b[0m\u001b[0;34m\u001b[0m\u001b[0m\n\u001b[0;32m----> 7\u001b[0;31m \u001b[0mnext\u001b[0m\u001b[0;34m(\u001b[0m\u001b[0mmy_iter\u001b[0m\u001b[0;34m)\u001b[0m\u001b[0;34m\u001b[0m\u001b[0;34m\u001b[0m\u001b[0m\n\u001b[0m",
            "\u001b[0;31mStopIteration\u001b[0m: "
          ]
        }
      ]
    },
    {
      "cell_type": "markdown",
      "source": [
        "А що якщо викликати цю ж функцію на рядку?"
      ],
      "metadata": {
        "id": "aekWHGXOLRsO"
      }
    },
    {
      "cell_type": "code",
      "source": [
        "next(my_str) #'str' object is not an iterator"
      ],
      "metadata": {
        "id": "mxATGsErLV1i",
        "colab": {
          "base_uri": "https://localhost:8080/",
          "height": 141
        },
        "outputId": "baf4e3a1-6939-4e01-d695-02e14fc99b29"
      },
      "execution_count": 55,
      "outputs": [
        {
          "output_type": "error",
          "ename": "TypeError",
          "evalue": "'str' object is not an iterator",
          "traceback": [
            "\u001b[0;31m---------------------------------------------------------------------------\u001b[0m",
            "\u001b[0;31mTypeError\u001b[0m                                 Traceback (most recent call last)",
            "\u001b[0;32m<ipython-input-55-d162a8a6eb21>\u001b[0m in \u001b[0;36m<cell line: 0>\u001b[0;34m()\u001b[0m\n\u001b[0;32m----> 1\u001b[0;31m \u001b[0mnext\u001b[0m\u001b[0;34m(\u001b[0m\u001b[0mmy_str\u001b[0m\u001b[0;34m)\u001b[0m \u001b[0;31m#'str' object is not an iterator\u001b[0m\u001b[0;34m\u001b[0m\u001b[0;34m\u001b[0m\u001b[0m\n\u001b[0m",
            "\u001b[0;31mTypeError\u001b[0m: 'str' object is not an iterator"
          ]
        }
      ]
    },
    {
      "cell_type": "markdown",
      "source": [
        " 12. (5б). Опишіть своїми словами в одному реченні, як ви розумієте різницю між ітерабельними обʼєктами та ітераторами (можна на прикладі)."
      ],
      "metadata": {
        "id": "XwtMEopwJ4pH"
      }
    },
    {
      "cell_type": "markdown",
      "source": [
        "iterable object is something that can be iterated over(for example, string) and\n",
        "iterator is specific object that produced elements one by one(by `next()`)\n"
      ],
      "metadata": {
        "id": "-sHrODc3KFn8"
      }
    },
    {
      "cell_type": "markdown",
      "source": [
        "13. (11б). Створіть клас, що має визначений Iterator Protocol та при кожному виклику next повертає назву дня тижня, поки вони не вичерпаються. Зверніть увагу, що порядок має значення."
      ],
      "metadata": {
        "id": "E9qJWmNbK8Gl"
      }
    },
    {
      "cell_type": "code",
      "source": [
        "from collections.abc import Iterator\n",
        "\n",
        "class WeekIterator(Iterator):\n",
        "\n",
        "    def __init__(self):\n",
        "        self.days = [\"Monday\", \"Tuesday\", \"Wednesday\", \"Thursday\", \"Friday\", \"Saturday\", \"Sunday\"]\n",
        "        self.index = 0\n",
        "\n",
        "    def __iter__(self):\n",
        "        return self\n",
        "\n",
        "    def __next__(self):\n",
        "       if self.index>= len(self.days):\n",
        "           raise StopIteration\n",
        "       day = self.days[self.index]\n",
        "       self.index +=1\n",
        "       return day\n",
        "\n",
        "week = WeekIterator()\n",
        "for day in week:\n",
        "    print(day)\n",
        "# next(week) raise StopIteraption"
      ],
      "metadata": {
        "id": "cqx-g_RsLo6I",
        "colab": {
          "base_uri": "https://localhost:8080/"
        },
        "outputId": "7f5d4bac-5986-44d1-def1-3e90d337bfba"
      },
      "execution_count": 71,
      "outputs": [
        {
          "output_type": "stream",
          "name": "stdout",
          "text": [
            "Monday\n",
            "Tuesday\n",
            "Wednesday\n",
            "Thursday\n",
            "Friday\n",
            "Saturday\n",
            "Sunday\n"
          ]
        }
      ]
    },
    {
      "cell_type": "markdown",
      "source": [
        "# Вітаю! Ви велика(ий) молодець, що впоралась(вся). Похваліть себе та побалуйте чимось приємним. Я Вами пишаюся."
      ],
      "metadata": {
        "id": "Z3E3S_s1Fv7-"
      }
    }
  ]
}